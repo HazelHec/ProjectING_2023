{
 "cells": [
  {
   "cell_type": "code",
   "execution_count": 19,
   "metadata": {},
   "outputs": [],
   "source": [
    "\n",
    "#Zona de librerias de importacion\n",
    "\n",
    "from matplotlib import pyplot as plt  \n",
    "import random\n",
    "import math as mt\n",
    "import numpy as np\n",
    "from scipy.stats import linregress"
   ]
  },
  {
   "cell_type": "markdown",
   "metadata": {},
   "source": [
    "## Graficas"
   ]
  },
  {
   "cell_type": "markdown",
   "metadata": {},
   "source": [
    "1. Estos son los metodos para generar las graficas\n",
    "2. graficaLog es el que genera graficas logaritmicas\n",
    "3. grafica28 genera graficas individuales\n",
    "4. grafica30 genera graficas dobles para ipr f y ipr p"
   ]
  },
  {
   "cell_type": "markdown",
   "metadata": {},
   "source": [
    "### Nota Correr primero que cualquier metodo"
   ]
  },
  {
   "cell_type": "code",
   "execution_count": 20,
   "metadata": {},
   "outputs": [],
   "source": [
    "def graficaLog(x,y):\n",
    "    x = np.array(x)  # Convierte x en un arreglo NumPy\n",
    "    y = np.array(y)  # Convierte y en un arreglo NumPy\n",
    "    plt.loglog(x, y)\n",
    "    # Realiza la regresión lineal en los datos logarítmicos\n",
    "    slope, intercept, r_value, p_value, std_err = linregress(x, y)\n",
    "\n",
    "    # Calcula la pendiente (que es el exponente de la ecuación logarítmica)\n",
    "    pendiente = slope\n",
    "\n",
    "    # Muestra la pendiente\n",
    "    print(f'La pendiente de la gráfica logarítmica es: {pendiente}')\n",
    "\n",
    "    # Crea un gráfico de dispersión para los datos logarítmicos\n",
    "    plt.scatter(x, y, label='Datos')\n",
    "\n",
    "    # Añade la línea de regresión lineal\n",
    "    regression_line = slope * x + intercept\n",
    "    plt.plot(x, regression_line, color='red', label='Regresión Lineal')\n",
    "    # Calculate the variance\n",
    "    variance = np.var(y)\n",
    "    # Print the slope and variance\n",
    "    print(\"Pendiente:\", slope)\n",
    "    print(\"Varianza:\", variance)\n",
    "    # Configura el gráfico\n",
    "    plt.xlabel('Gasto')\n",
    "    plt.ylabel('Diferencia Presión')\n",
    "    plt.legend()\n",
    "    plt.grid(True)\n",
    "\n",
    "    # Muestra el gráfico\n",
    "    plt.show()\n",
    "    \n",
    "\n",
    "def graph28(x, y, graph_title):\n",
    "    # Crear el gráfico\n",
    "    plt.plot(x, y)\n",
    "    # Personalizar el gráfico\n",
    "    plt.title(graph_title)\n",
    "    plt.xlabel(\"Qo\")\n",
    "    plt.ylabel(\"Pwf\")\n",
    "    plt.legend()\n",
    "    plt.grid(True)\n",
    "    # Mostrar el gráfico\n",
    "    plt.show()\n",
    "    \n",
    "def graph30(x1, y1, x2, y2):\n",
    "    # Crear el gráfico\n",
    "    plt.plot(x1, y1, label='IPR futura')\n",
    "    plt.plot(x2, y2, label='IPR presente')\n",
    "    \n",
    "    # Personalizar el gráfico\n",
    "    plt.title('Comparación de IPR futura y presente')\n",
    "    plt.xlabel(\"Qo\")\n",
    "    plt.ylabel(\"Pwf\")\n",
    "    plt.grid(True)\n",
    "    plt.legend()\n",
    "    \n",
    "    # Mostrar el gráfico\n",
    "    plt.show()\n"
   ]
  },
  {
   "cell_type": "markdown",
   "metadata": {},
   "source": [
    "## Metodo Vogel Generalizado"
   ]
  },
  {
   "cell_type": "markdown",
   "metadata": {},
   "source": [
    "### Datos"
   ]
  },
  {
   "cell_type": "code",
   "execution_count": 8,
   "metadata": {},
   "outputs": [
    {
     "name": "stdout",
     "output_type": "stream",
     "text": [
      "qo = 200.0 pr = 4000.0 pwf = 3000.0 pb = 2000.0 r30\n"
     ]
    }
   ],
   "source": [
    "#Objetivo determinar qo o gasto del aceite \n",
    "#NOTE - Todos los datos deben estar en las unidades del metodo (inglesas)\n",
    "\n",
    "qo = 0.0 #bpd gasto de aceite\n",
    "pr = 0.0 #Presion media del yacimiento psia\n",
    "pwf = 0.0 #Presion de fondo fluyente psia\n",
    "pb = 0.0 #Presion de Poro psia\n",
    "r = 0 #Es el numero de iteraciones para la grafica\n",
    "print(f'qo = {qo} pr = {pr} pwf = {pwf} pb = {pb} r = {r}')"
   ]
  },
  {
   "cell_type": "markdown",
   "metadata": {},
   "source": [
    "### Programa"
   ]
  },
  {
   "cell_type": "code",
   "execution_count": null,
   "metadata": {},
   "outputs": [],
   "source": [
    "\n",
    "#Funciones y logica del metodo\n",
    "def caseA(qo, pr, pwf, pb, r):\n",
    "    # Paso 1: obtener el IP\n",
    "    J = qo / (pr - pwf)\n",
    "    print(f'IP = {round(J,3)}')\n",
    "    # Paso 2: calcular el gasto a la presión de saturación\n",
    "    qb = J * (pr - pb)\n",
    "    print(f'qb = {round(qb,3)}')\n",
    "    # Paso 3: calcular qc\n",
    "    qc = (qb * pb) / (1.8 * (pr - pb))\n",
    "    print(f'qc = {round(qc,3)}')\n",
    "    # Paso 4: graficar IPR\n",
    "    #print(int(pwf / r))\n",
    "    lpwf = [pwf - i for i in range(0, int(pwf), int(pwf / r))]  # la \"l\" inicial significa que es una lista\n",
    "    lqos, lqob = dict(), dict()\n",
    "    for i in lpwf:\n",
    "        if i >= pb:\n",
    "            lqob[i] = J * (pr - i)\n",
    "        else:\n",
    "            lqos[i] = round(\n",
    "                qc * (1.8 * (pr / pb) - 0.8 - 0.2 * (i / pb) - 0.8 * pow((i / pb), 2)), 3\n",
    "            )\n",
    "    lqos[0] = round(\n",
    "                qc * (1.8 * (pr / pb) - 0.8), 3\n",
    "            )\n",
    "    print(f'Diccionario presiones iteradas = {lpwf}')\n",
    "    print(f'Diccionario bajo saturado = {lqob}')\n",
    "    print(f'Diccionario saturado = {lqos}')\n",
    "    graph28(list(lqob.values()), list(lqob.keys()), \"Gráfico de bajo Saturado\")\n",
    "    graph28(list(lqos.values()),  list(lqos.keys()), \"Gráfico de Saturado\")\n",
    "\n",
    "\n",
    "    \n",
    "    \n",
    "def caseB(qo, pr, pwf, pb, r):   \n",
    "    #Paso 1 Calcular el valor de qc \n",
    "    qc = qo / (1.8 * (pr / pb) - 0.8 - 0.2 * (pwf / pb) - 0.8 * pow((pwf / pb), 2))\n",
    "    print(f'qc = {qc}')\n",
    "    #Paso 3 Calcular el gasto a la presión de burbuja\n",
    "    qb = ( qc * 1.8 * ( pr-pb )) / pb\n",
    "    print(f'qb = {qb}')\n",
    "    #Paso4 Determinar el índice de productividad4.Determinar el índice de productividad\n",
    "    J = qb / ( pr-pb )\n",
    "    print(f'IP = {J}')\n",
    "    #Paso 2 Calcular el gasto para cualquier presión de fondo fluyente por debajo de la presión de burbuja\n",
    "    #print(int(pwf / r))\n",
    "    lpwf = [pwf - i for i in range(0, int(pwf), int(pwf / r))]  # la \"l\" inicial significa que es una lista\n",
    "    lqos, lqob = dict(), dict()\n",
    "    for i in lpwf:\n",
    "        if i >= pb:\n",
    "            lqob[i] = J * (pr - i)\n",
    "        else:\n",
    "            lqos[i] = round(\n",
    "                qc * (1.8 * (pr / pb) - 0.8 - 0.2 * (i / pb) - 0.8 * pow((i / pb), 2)), 3\n",
    "            )\n",
    "    lqos[0] = round(\n",
    "                qc * (1.8 * (pr / pb) - 0.8), 3\n",
    "            )\n",
    "    \n",
    "    print(f'Diccionario presiones iteradas = {lpwf}')\n",
    "    print(f'Diccionario bajo saturado = {lqob}')\n",
    "    print(f'Diccionario saturado = {lqos}')\n",
    "    graph28(list(lqob.values()), list(lqob.keys()), \"Gráfico de bajo Saturado\")\n",
    "    graph28(list(lqos.values()),  list(lqos.keys()), \"Gráfico de Saturado\")\n",
    "    \n"
   ]
  },
  {
   "cell_type": "code",
   "execution_count": null,
   "metadata": {},
   "outputs": [],
   "source": [
    "#Prueba Vogel\n",
    "if pwf >= pb:\n",
    "    caseA(qo, pr, pwf, pb, r)\n",
    "else:\n",
    "    caseB(qo, pr, pwf, pb, r)"
   ]
  },
  {
   "cell_type": "markdown",
   "metadata": {},
   "source": [
    "## Metodo Back Pressure"
   ]
  },
  {
   "cell_type": "markdown",
   "metadata": {},
   "source": [
    "### Datos"
   ]
  },
  {
   "cell_type": "code",
   "execution_count": null,
   "metadata": {},
   "outputs": [],
   "source": [
    "#NOTE - Todos los datos deben estar en las unidades del metodo (inglesas)\n",
    "\n",
    "bk_pws = 0.0 # Presion \n",
    "bk_pwf1 = 0.0 #Presion de fondo fluyente punto 1\n",
    "bk_pwf2 = 0.0 #Presion de fondo fluyente punto 2\n",
    "bk_qg1 = 0.0 #Gasto del gas punto 1\n",
    "bk_qg2 = 0.0 #Gasto del gas punto 2\n",
    "bk_puntos = 0 # Debe ser entero este es el numero de iteraciones para la grafica"
   ]
  },
  {
   "cell_type": "markdown",
   "metadata": {},
   "source": [
    "### Programa\n"
   ]
  },
  {
   "cell_type": "code",
   "execution_count": null,
   "metadata": {},
   "outputs": [],
   "source": [
    "\n",
    "#Funciones y desarrollo del metodo\n",
    "#r es el numero de punto que quiere graficar hasta qomax\n",
    "\n",
    "def backpressure(pr,pwf1,pwf2,qg1,qg2,r):\n",
    "    #Calculo de m\n",
    "    a = mt.log( pow(pr,2) - pow(pwf2,2) , 10 ) - mt.log( pow(pr,2) - pow(pwf1,2) ,10 )\n",
    "    b = mt.log(qg2,10) - mt.log(qg1,10)\n",
    "    m = a /b #Esta es m\n",
    "    \n",
    "    # print(pow(pr,2) - pow(pwf1,2))\n",
    "    print(f' m = {m}')\n",
    "    #Calculo de n\n",
    "    n = 1/m\n",
    "    print(f' n = {n}')\n",
    "    #Calculo de C\n",
    "    c = qg1 / pow(pow(pr,2) - pow(pwf1,2) ,n)\n",
    "    print(f' c = {c}')\n",
    "    #Calculo de qg\n",
    "    pwf = [pr]\n",
    "    for i in range(1,r+1):\n",
    "        aux = round((pr-14.7) / r , 3)\n",
    "        pwf.append(round(pr - (aux*i),3)) #Metodo para agregar datos de pwf\n",
    "        if i == r:\n",
    "            pwf.append(0)\n",
    "    qg = list()\n",
    "    aux2 = 0\n",
    "    for i in pwf:\n",
    "        qg.append(round(c * pow((pow(pr,2)-pow(i,2)),n),3))\n",
    "        pwf[aux2] = round(pow(pr,2) - pow(pwf[aux2],2),3)\n",
    "        aux2 += 1\n",
    "        \n",
    "    print (f'Lista de presiones: {pwf}\\nLista de gastos:{qg}')  \n",
    "    \n",
    "    graficaLog(qg,pwf)\n",
    "    \n",
    "\n",
    "    \n",
    "\n",
    "    \n"
   ]
  },
  {
   "cell_type": "code",
   "execution_count": 73,
   "metadata": {},
   "outputs": [
    {
     "name": "stdout",
     "output_type": "stream",
     "text": [
      "4137.629999999976\n",
      "1.3291121026040713\n",
      "0.7523819834615483\n",
      "0.008034450824432368\n",
      "[0.0, 30576.917, 58056.99, 82440.217, 103726.6, 121916.137, 137008.83, 149004.677, 157903.68, 163705.837, 166411.15, 166627.24]\n",
      "[0.0, 19.041, 30.846, 40.158, 47.733, 53.904, 58.851, 62.687, 65.484, 67.286, 68.121, 68.187]\n",
      "La pendiente de la gráfica logarítmica es: 2571.7007100124106\n",
      "Pendiente: 2571.7007100124106\n",
      "Varianza: 2986717519.784987\n"
     ]
    },
    {
     "data": {
      "image/png": "[encoded data removed]",
      "text/plain": [
       "<Figure size 640x480 with 1 Axes>"
      ]
     },
     "metadata": {},
     "output_type": "display_data"
    }
   ],
   "source": [
    "#Prueba  \n",
    "\n",
    "#backpressure(408.2,403.1,378.5,4.228,15.552,10)\n",
    "backpressure(bk_pws, bk_pwf1, bk_pwf2, bk_qg1, bk_qg2, bk_puntos)"
   ]
  },
  {
   "cell_type": "markdown",
   "metadata": {},
   "source": [
    "## Metodo Eickmeier"
   ]
  },
  {
   "cell_type": "markdown",
   "metadata": {},
   "source": [
    "### Datos"
   ]
  },
  {
   "cell_type": "code",
   "execution_count": null,
   "metadata": {},
   "outputs": [],
   "source": [
    "#NOTE - Todos los datos deben estar en las unidades del metodo (inglesas)\n",
    "#Calculos de qoF y qomaxF\n",
    "\n",
    "me_qo = 0.0 #bpd\n",
    "me_prP = 0.0 #Presión del yacimiento actual\n",
    "me_pwf = 0.0  #Presion de fondo fluyente psia\n",
    "me_prF = 0.0  #Presión del yacimiento futura\n",
    "\n"
   ]
  },
  {
   "cell_type": "markdown",
   "metadata": {},
   "source": [
    "### Programa\n"
   ]
  },
  {
   "cell_type": "code",
   "execution_count": 81,
   "metadata": {},
   "outputs": [],
   "source": [
    "#Metodos y funciones \n",
    "#Paso 1 De una prueba de producción, con la ecuación de Vogel, determinar qo(max)Presente\n",
    "def qomaxP (qoP,pwf,prP):\n",
    "    return qoP / ( 1 - 0.2 * (pwf/prP) - 0.8 * pow((pwf/prP),2))\n",
    "#Este metodo calcula el gasto maximo presente\n",
    "\n",
    "\n",
    "#Paso 2 Para determinar qo(max)Futura utilizar qo(max)Presente\n",
    "def qomaxF(prF,prP,qomP):\n",
    "    return qomP * pow((prF/prP),3)\n",
    "#Este metodo calcula el gasto maximo futuro\n",
    "\n",
    "#Paso 3 Para determinar qo Futura\n",
    "def eickmeier(qoP,prP,pwf,prF):\n",
    "    fqomaxP = round(qomaxP (qoP,pwf,prP),3)\n",
    "    fqomaxF = round(qomaxF(prF,prP,fqomaxP),3)\n",
    "    fqoF = round(fqomaxF * (1 - 0.2 * (pwf/prF) - 0.8 * pow((pwf/prF),2)),3)\n",
    "    print(f'qomaxP= {fqomaxP}\\nqomaxF= {fqomaxF}\\nqoF= {fqoF}')\n",
    "    \n",
    "#Metodo completo"
   ]
  },
  {
   "cell_type": "code",
   "execution_count": 82,
   "metadata": {},
   "outputs": [
    {
     "name": "stdout",
     "output_type": "stream",
     "text": [
      "qomaxP= 720.0\n",
      "qomaxF= 213.333\n",
      "qoF= -106.666\n"
     ]
    }
   ],
   "source": [
    "#Pruebas\n",
    "# eickmeier(200,3000,2500,2000)\n",
    "eickmeier(me_qo,me_prP,me_pwf,me_prF)"
   ]
  },
  {
   "cell_type": "markdown",
   "metadata": {},
   "source": [
    "## Metodo de Standing"
   ]
  },
  {
   "cell_type": "markdown",
   "metadata": {},
   "source": [
    "### Datos"
   ]
  },
  {
   "cell_type": "code",
   "execution_count": 21,
   "metadata": {},
   "outputs": [],
   "source": [
    "#Nota, tomar en cuenta que los datos introducidos  deben ser en unidades inglesas \n",
    "#Calculos de qoF y qomaxF\n",
    "\n",
    "ms_qoP = 400 #El gasto presente\n",
    "ms_prP = 2250 #Pr Presente \n",
    "ms_pwf = 1815 #Presion de fondo fluyente\n",
    "ms_prF = 1800 #Pr Futura\n",
    "\n",
    "#NOTE - El primer valor de la lista es el presente y el segundo el futuro\n",
    "#Tomar esto en cuenta en sus ejercicios de prueba\n",
    "ms_kro = {'P': 0.815,'F': 0.685} # kro \n",
    "ms_viz = {'P': 3.11,'F': 3.59} #Vizcosidad presente y futura\n",
    "ms_Bo = {'P': 1.173,'F': 1.150} #Bo presente y futuro\n",
    "ms_n = 10 #Es el numero de iteraciones para el grafico\n",
    "\n"
   ]
  },
  {
   "cell_type": "markdown",
   "metadata": {},
   "source": [
    "### Programa"
   ]
  },
  {
   "cell_type": "markdown",
   "metadata": {},
   "source": [
    "El método requiere de datos de permeabilidad relativa del aceite, viscosidad y factor de volumen en función de la presión del yacimiento.\n",
    "La saturación del aceite como función de la presión promedio del yacimiento, puede determinarse utilizando balance de materia, por lo tanto, la permeabilidad relativa del aceite puede ser determinada si los datos de permeabilidad se conocen. Las propiedades de los fluidos (viscosidad y factor de volumen) pueden obtenerse de análisis de laboratorio o correlaciones empíricas."
   ]
  },
  {
   "cell_type": "code",
   "execution_count": 22,
   "metadata": {},
   "outputs": [],
   "source": [
    "#Metodos y funciones\n",
    "\n",
    "\n",
    "def standing(qoP,prP,pwf,prF,kro,viz,Bo, n):\n",
    "    #Paso 1 calculo de qoMax Presente \n",
    "    qoMaxP = qoP / ( 1 - 0.2 * (pwf/prP) - 0.8 * pow((pwf/prP),2))\n",
    "    print('Gasto Max Presnete: ' + str(round(qoMaxP,3)))\n",
    "\n",
    "    #Paso 2 Usar las propiedades de los fluidos, para calcular IPR presente y futuro\n",
    "    JF = (kro['F'])/(viz['F']*Bo['F']) #viz es la vizcosidad\n",
    "    print('IPR Futuro: ' + str(round(JF,3)))\n",
    "    \n",
    "    JP = (kro['P'])/(viz['P']*Bo['P']) # IPR Presente\n",
    "    \n",
    "    #Paso 3 Calcular 𝑞𝑜(max)𝐹\n",
    "    qoMaxF = qoMaxP * ((prF*JF)/(prP*JP)) \n",
    "    print('Gasto Max Futuro: ' + str(round(qoMaxF,3)))\n",
    "    \n",
    "    \n",
    "    #Paso 4 Preparar elementos para la grafica\n",
    "    # l Representa que sera una lista \n",
    "    lpwfP = list(round((prP - (prP/n)*i),3) for i in range (1,n+1))\n",
    "    print(f'Lista de presiones Presente: {lpwfP}')\n",
    "    \n",
    "    lpwfF = list(round((prF - (prF/n)*i),3) for i in range (1,n+1))\n",
    "    print(f'Lista de presiones futura: {lpwfF}')\n",
    "    \n",
    "    lqoP = list(round(qoMaxP * ( 1 - 0.2 * (pwf/prP) - 0.8 * pow((pwf/prP),2)),3) for pwf in lpwfP)\n",
    "    print(f'Lista de Gastos Presente: {lqoP}')\n",
    "    \n",
    "    lqoF = list(round(qoMaxF * ( 1 - 0.2 * (pwf/prF) - 0.8 * pow((pwf/prF),2)),3) for pwf in lpwfF)\n",
    "    print(f'Lista de Futuras Futuras: {lqoF}')\n",
    "    \n",
    "    \n",
    "    graph30(lqoP, lpwfP, lqoF, lpwfF)\n"
   ]
  },
  {
   "cell_type": "code",
   "execution_count": 23,
   "metadata": {},
   "outputs": [
    {
     "name": "stdout",
     "output_type": "stream",
     "text": [
      "Gasto Max Presnete: 1257.475\n",
      "IPR Futuro: 0.166\n",
      "Gasto Max Futuro: 747.117\n",
      "Lista de presiones Presente: [2025.0, 1800.0, 1575.0, 1350.0, 1125.0, 900.0, 675.0, 450.0, 225.0, 0.0]\n",
      "Lista de presiones futura: [1620.0, 1440.0, 1260.0, 1080.0, 900.0, 720.0, 540.0, 360.0, 180.0, 0.0]\n",
      "Lista de Gastos Presente: [216.286, 412.452, 588.498, 744.425, 880.232, 995.92, 1091.488, 1166.937, 1222.266, 1257.475]\n",
      "Lista de Futuras Futuras: [128.504, 245.054, 349.651, 442.293, 522.982, 591.716, 648.497, 693.324, 726.197, 747.117]\n"
     ]
    },
    {
     "data": {
      "image/png": "[encoded data removed]",
      "text/plain": [
       "<Figure size 640x480 with 1 Axes>"
      ]
     },
     "metadata": {},
     "output_type": "display_data"
    }
   ],
   "source": [
    "standing(ms_qoP,ms_prP,ms_pwf,ms_prF,ms_kro,ms_viz,ms_Bo, ms_n)"
   ]
  }
 ],
 "metadata": {
  "kernelspec": {
   "display_name": "env",
   "language": "python",
   "name": "python3"
  },
  "language_info": {
   "codemirror_mode": {
    "name": "ipython",
    "version": 3
   },
   "file_extension": ".py",
   "mimetype": "text/x-python",
   "name": "python",
   "nbconvert_exporter": "python",
   "pygments_lexer": "ipython3",
   "version": "3.10.5"
  }
 },
 "nbformat": 4,
 "nbformat_minor": 2
}
